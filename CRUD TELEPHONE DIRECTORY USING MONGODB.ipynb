{
 "cells": [
  {
   "cell_type": "code",
   "execution_count": 36,
   "id": "aa1f2646",
   "metadata": {},
   "outputs": [],
   "source": [
    "import pymongo\n",
    "from pymongo import MongoClient"
   ]
  },
  {
   "cell_type": "code",
   "execution_count": 37,
   "id": "341cb72c",
   "metadata": {},
   "outputs": [],
   "source": [
    "myclient = pymongo.MongoClient(\"mongodb://localhost:27017/\")"
   ]
  },
  {
   "cell_type": "code",
   "execution_count": 38,
   "id": "d583b185",
   "metadata": {},
   "outputs": [],
   "source": [
    "mydb = myclient[\"mydatabase\"]"
   ]
  },
  {
   "cell_type": "code",
   "execution_count": 39,
   "id": "5948a395",
   "metadata": {},
   "outputs": [
    {
     "name": "stdout",
     "output_type": "stream",
     "text": [
      "['admin', 'config', 'local', 'mylibrary', 'student_database', 'test']\n"
     ]
    }
   ],
   "source": [
    "print(myclient.list_database_names())"
   ]
  },
  {
   "cell_type": "code",
   "execution_count": 40,
   "id": "5959ec84",
   "metadata": {},
   "outputs": [],
   "source": [
    "#CREATING THE DATABASE\n",
    "database_name=\"student_database\"\n",
    "student_db=myclient[database_name]"
   ]
  },
  {
   "cell_type": "code",
   "execution_count": 41,
   "id": "39282ebf",
   "metadata": {},
   "outputs": [],
   "source": [
    "collection_name=\"student_info\"\n",
    "collection=student_db[collection_name]"
   ]
  },
  {
   "cell_type": "code",
   "execution_count": 42,
   "id": "886b9391",
   "metadata": {},
   "outputs": [
    {
     "data": {
      "text/plain": [
       "['marks', 'Student_info']"
      ]
     },
     "execution_count": 42,
     "metadata": {},
     "output_type": "execute_result"
    }
   ],
   "source": [
    "student_db.list_collection_names()"
   ]
  },
  {
   "cell_type": "code",
   "execution_count": 43,
   "id": "3e8e6c04",
   "metadata": {},
   "outputs": [
    {
     "data": {
      "text/plain": [
       "<pymongo.results.InsertOneResult at 0x2b6504e8f70>"
      ]
     },
     "execution_count": 43,
     "metadata": {},
     "output_type": "execute_result"
    }
   ],
   "source": [
    "#INSERTING a single Document\n",
    "document={\"Name\":\"Rio\",\n",
    "\"Phone number \":  9999997777,\n",
    "\"Place \": \"Chennai\"}\n",
    "collection.insert_one(document)"
   ]
  },
  {
   "cell_type": "code",
   "execution_count": 44,
   "id": "93fbdaf3",
   "metadata": {},
   "outputs": [
    {
     "data": {
      "text/plain": [
       "<pymongo.results.InsertManyResult at 0x2b6505a0ee0>"
      ]
     },
     "execution_count": 44,
     "metadata": {},
     "output_type": "execute_result"
    }
   ],
   "source": [
    "#INSERTING many Documents\n",
    "documents=[{\"Name\":\"Roshan\",\"Phone number\":9445577159,\"Place \":\"Chennai\"},{\"Name\":\"Rajiv\",\"Phone number\":9445577155,\"Place \":\"Chennai\"},{\"Name\":\"Thomas\",\"Phone number\":9445577156,\"Place \":\"Chennai\"}]\n",
    "collection.insert_many(documents)"
   ]
  },
  {
   "cell_type": "code",
   "execution_count": 45,
   "id": "d7c5a542",
   "metadata": {},
   "outputs": [
    {
     "name": "stdout",
     "output_type": "stream",
     "text": [
      "{'_id': ObjectId('634502f060100fc6a940dd21'), 'Name': 'Rio', 'Phone number ': 9999997777, 'Place ': 'Chennai'}\n"
     ]
    }
   ],
   "source": [
    "#RETRIEVING a Document\n",
    "query={\"Name\":\"Rio\"}\n",
    "print(collection.find_one(query))\n"
   ]
  },
  {
   "cell_type": "code",
   "execution_count": 46,
   "id": "f80ee3a8",
   "metadata": {},
   "outputs": [
    {
     "name": "stdout",
     "output_type": "stream",
     "text": [
      "{'_id': ObjectId('634502f060100fc6a940dd21'), 'Name': 'Rio', 'Phone number ': 9999997777, 'Place ': 'Chennai'}\n",
      "{'_id': ObjectId('634502f660100fc6a940dd22'), 'Name': 'Roshan', 'Phone number': 9445577159, 'Place ': 'Chennai'}\n"
     ]
    }
   ],
   "source": [
    "#RETRIEVING many Documents\n",
    "result=collection.find({}).limit(2)\n",
    "for i in result:\n",
    "    print(i)"
   ]
  },
  {
   "cell_type": "code",
   "execution_count": 47,
   "id": "db3bb6e2",
   "metadata": {},
   "outputs": [
    {
     "data": {
      "text/plain": [
       "<pymongo.results.UpdateResult at 0x2b650596970>"
      ]
     },
     "execution_count": 47,
     "metadata": {},
     "output_type": "execute_result"
    }
   ],
   "source": [
    "#UPDATING  DOCUMENTS\n",
    "present_data={\"Place\":\"Chennai\"}\n",
    "new_data={\"$set\":{\"Place\":\"Hyderabad\"}}\n",
    "collection.update_many(present_data,new_data)\n"
   ]
  },
  {
   "cell_type": "code",
   "execution_count": 34,
   "id": "fab52283",
   "metadata": {},
   "outputs": [
    {
     "data": {
      "text/plain": [
       "<pymongo.results.DeleteResult at 0x2b6504e8700>"
      ]
     },
     "execution_count": 34,
     "metadata": {},
     "output_type": "execute_result"
    }
   ],
   "source": [
    "#DELETING A DOCUMENT\n",
    "query={\"Phone number\":9445577156}\n",
    "collection.delete_one(query)"
   ]
  },
  {
   "cell_type": "code",
   "execution_count": 35,
   "id": "01c1166a",
   "metadata": {},
   "outputs": [
    {
     "data": {
      "text/plain": [
       "<pymongo.results.DeleteResult at 0x2b64fefbcd0>"
      ]
     },
     "execution_count": 35,
     "metadata": {},
     "output_type": "execute_result"
    }
   ],
   "source": [
    "#DELETING A DOCUMENTS\n",
    "query={\"Place\":\"Bangalore\"}\n",
    "collection.delete_many(query)"
   ]
  },
  {
   "cell_type": "code",
   "execution_count": null,
   "id": "793d1c2b",
   "metadata": {},
   "outputs": [],
   "source": []
  }
 ],
 "metadata": {
  "kernelspec": {
   "display_name": "Python 3 (ipykernel)",
   "language": "python",
   "name": "python3"
  },
  "language_info": {
   "codemirror_mode": {
    "name": "ipython",
    "version": 3
   },
   "file_extension": ".py",
   "mimetype": "text/x-python",
   "name": "python",
   "nbconvert_exporter": "python",
   "pygments_lexer": "ipython3",
   "version": "3.9.7"
  }
 },
 "nbformat": 4,
 "nbformat_minor": 5
}
